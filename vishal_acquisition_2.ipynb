{
 "cells": [
  {
   "cell_type": "code",
   "execution_count": 11,
   "metadata": {},
   "outputs": [],
   "source": [
    "import numpy as np\n",
    "from tqdm import tqdm"
   ]
  },
  {
   "cell_type": "code",
   "execution_count": 12,
   "metadata": {},
   "outputs": [],
   "source": [
    "def generate_PRN_code(prn):\n",
    "    # Define the shift array for G2 code generation\n",
    "    g2_shifts = [5, 6, 7, 8, 17, 18, 139, 140, 141, 251, 252, 254, 255, 256, 257, 258, 469, 470, 471, 472,\n",
    "                 473, 474, 509, 512, 513, 514, 515, 516, 859, 860, 861, 862, 145, 175, 52, 21, 237, 235,\n",
    "                 886, 657, 634, 762, 355, 1012, 176, 603, 130, 359, 595, 68, 386]\n",
    "\n",
    "    # Determine the appropriate shift for the given PRN number for G2 code\n",
    "    g2_shift = g2_shifts[prn - 1]\n",
    "\n",
    "    # Generate G1 code sequence\n",
    "    g1_code = np.ones(1023)\n",
    "    g1_register = -np.ones(10)\n",
    "    for i in range(1023):\n",
    "        g1_code[i] = g1_register[9]\n",
    "        feedback_bit = g1_register[2] * g1_register[9]\n",
    "        g1_register[1:] = g1_register[:-1]\n",
    "        g1_register[0] = feedback_bit\n",
    "\n",
    "    # Generate G2 code sequence\n",
    "    g2_code = np.ones(1023)\n",
    "    g2_register = -np.ones(10)\n",
    "    for i in range(1023):\n",
    "        g2_code[i] = g2_register[9]\n",
    "        feedback_bit = g2_register[1] * g2_register[2] * g2_register[5] * g2_register[7] * g2_register[8] * g2_register[9]\n",
    "        g2_register[1:] = g2_register[:-1]\n",
    "        g2_register[0] = feedback_bit\n",
    "\n",
    "    # Shift the G2 code sequence\n",
    "    g2_code = np.roll(g2_code, g2_shift)\n",
    "\n",
    "    # Form the single sample C/A code by multiplying G1 and G2\n",
    "    ca_code = -(g1_code * g2_code)\n",
    "\n",
    "    return ca_code\n"
   ]
  },
  {
   "cell_type": "code",
   "execution_count": 13,
   "metadata": {},
   "outputs": [],
   "source": [
    "\n",
    "\n",
    "# Define the path to the data file\n",
    "data_path = 'C:/Users/visha/Documents/Jupyter notebook files/AE410 assignment/RTLSDR_Bands-L1.uint8'\n",
    "\n",
    "# Load the data from the file\n",
    "# The data is in 8-bit unsigned integer format\n",
    "with open(data_path, 'rb') as file:\n",
    "    raw_data = np.fromfile(file, dtype=np.uint8, count=4092)\n",
    "\n",
    "# The I and Q components are interleaved in the file, so we need to separate them.\n",
    "i_components = raw_data[0::2].astype(np.float64) - 128.0\n",
    "q_components = raw_data[1::2].astype(np.float64) - 128.0\n",
    "\n",
    "# Combine I and Q to form complex samples\n",
    "iq_samples = i_components + 1j * q_components\n"
   ]
  },
  {
   "cell_type": "code",
   "execution_count": 14,
   "metadata": {},
   "outputs": [
    {
     "data": {
      "text/plain": [
       "2046"
      ]
     },
     "execution_count": 14,
     "metadata": {},
     "output_type": "execute_result"
    }
   ],
   "source": [
    "len(iq_samples)"
   ]
  },
  {
   "cell_type": "code",
   "execution_count": 15,
   "metadata": {},
   "outputs": [],
   "source": [
    "def generate_ca_signal(ca_code, circular_shift, upsampling_factor, doppler_frequency):\n",
    "    # Perform circular shift on the C/A code\n",
    "    shifted_ca_code = np.roll(ca_code, circular_shift)\n",
    "    \n",
    "    # Upsample the code by repeating each element 'upsampling_factor' times\n",
    "    upsampled_ca_code = np.repeat(shifted_ca_code, upsampling_factor)\n",
    "    \n",
    "    # Generate a time vector (assuming the code length is in milliseconds)\n",
    "    time_vector = np.linspace(0, len(upsampled_ca_code) * 1e-3, len(upsampled_ca_code), endpoint=False)\n",
    "    \n",
    "    # Modulate the upsampled C/A code by a complex exponential to represent the Doppler shift\n",
    "    doppler_shifted_ca = upsampled_ca_code * np.exp(1j * 2 * np.pi * doppler_frequency * time_vector)\n",
    "    \n",
    "    return doppler_shifted_ca\n"
   ]
  },
  {
   "cell_type": "code",
   "execution_count": 16,
   "metadata": {},
   "outputs": [],
   "source": [
    "\n",
    "\n",
    "import numpy as np\n",
    "from scipy.signal import correlate\n",
    "\n",
    "def find_best_match(input_signal, doppler_range, num_prns, sample_prn_code, sampling_factor=2):\n",
    "    best_match_info = {'doppler': 0, 'shift': 0, 'value': 0, 'prn': 0}\n",
    "    max_correlation_value = 0\n",
    "\n",
    "    for prn in range(1, num_prns + 1):\n",
    "        prn_code = sample_prn_code(f'./CA_Codes/prn{prn}.txt')\n",
    "\n",
    "        for shift in range(1023):  # 1023 shifts for PRN code\n",
    "            for doppler in doppler_range:\n",
    "                doppler_shifted_ca_code = generate_ca_signal(prn_code, shift, sampling_factor, doppler)\n",
    "                correlation_result = correlate(input_signal, doppler_shifted_ca_code, mode='full')\n",
    "\n",
    "                max_correlation = np.max(correlation_result)\n",
    "                if max_correlation > max_correlation_value:\n",
    "                    max_correlation_value = max_correlation\n",
    "                    best_match_info.update({'doppler': doppler, 'shift': shift, 'prn': prn, 'value': max_correlation_value})\n",
    "\n",
    "    return best_match_info\n",
    "\n",
    "# The sample_prn_code and generate_ca_signal functions would need to be defined in Python as well.\n",
    "# For example:\n",
    "def sample_prn_code(file_path):\n",
    "    # Read the PRN code from a file and return it as a numpy array\n",
    "    with open(file_path, 'r') as file:\n",
    "        return np.array([int(line.strip()) for line in file])\n",
    "\n"
   ]
  },
  {
   "cell_type": "code",
   "execution_count": 17,
   "metadata": {},
   "outputs": [],
   "source": [
    "import numpy as np\n",
    "\n",
    "def find_best_matches_1(input_signal, doppler_range, num_prns, sample_prn_code, sampling_factor=2):\n",
    "    top_five_matches = []\n",
    "\n",
    "    for prn in tqdm(range(1, num_prns + 1), desc='Loop 1'):\n",
    "        prn_code = sample_prn_code(C:/Users/visha/Documents/Jupyter notebook files/AE410 assignment/CA_Codes/prn{prn}.txt')\n",
    "\n",
    "        for shift in tqdm(range(1023), desc='Loop 2'):  # Assuming 1023 shifts for PRN code\n",
    "            for doppler in doppler_range:\n",
    "                doppler_shifted_ca_code = generate_ca_signal(prn_code, shift, sampling_factor, doppler)\n",
    "                correlation_result = np.correlate(input_signal, doppler_shifted_ca_code, mode='full')\n",
    "\n",
    "                max_correlation = np.max(correlation_result)\n",
    "                if len(top_five_matches) < 5 or max_correlation > top_five_matches[0]['value']:\n",
    "                    match_info = {'doppler': doppler, 'shift': shift, 'prn': prn, 'value': max_correlation}\n",
    "                    if len(top_five_matches) >= 5:\n",
    "                        top_five_matches[0] = match_info  # Replace the smallest\n",
    "                    else:\n",
    "                        top_five_matches.append(match_info)  # Append to the list\n",
    "                    \n",
    "                    # Sort the list based on the correlation value in descending order\n",
    "                    top_five_matches.sort(key=lambda x: x['value'], reverse=True)\n",
    "\n",
    "    return top_five_matches\n",
    "\n",
    "# Make sure to define `generate_ca_signal` and `sample_prn_code` functions appropriately\n",
    "\n"
   ]
  },
  {
   "cell_type": "code",
   "execution_count": 21,
   "metadata": {},
   "outputs": [
    {
     "name": "stderr",
     "output_type": "stream",
     "text": [
      "Loop 2: 100%|██████████| 1023/1023 [00:49<00:00, 20.82it/s]\n",
      "Loop 2: 100%|██████████| 1023/1023 [00:49<00:00, 20.71it/s]\n",
      "Loop 2: 100%|██████████| 1023/1023 [00:48<00:00, 21.27it/s]\n",
      "Loop 2: 100%|██████████| 1023/1023 [00:41<00:00, 24.95it/s]\n",
      "Loop 2: 100%|██████████| 1023/1023 [00:42<00:00, 24.04it/s]\n",
      "Loop 2: 100%|██████████| 1023/1023 [00:41<00:00, 24.51it/s]\n",
      "Loop 2: 100%|██████████| 1023/1023 [00:50<00:00, 20.39it/s]\n",
      "Loop 2: 100%|██████████| 1023/1023 [00:46<00:00, 22.05it/s]\n",
      "Loop 2: 100%|██████████| 1023/1023 [00:47<00:00, 21.36it/s]\n",
      "Loop 2: 100%|██████████| 1023/1023 [00:45<00:00, 22.33it/s]\n",
      "Loop 2: 100%|██████████| 1023/1023 [00:48<00:00, 21.13it/s]\n",
      "Loop 2: 100%|██████████| 1023/1023 [00:44<00:00, 22.79it/s]\n",
      "Loop 2: 100%|██████████| 1023/1023 [00:53<00:00, 19.11it/s]\n",
      "Loop 2: 100%|██████████| 1023/1023 [01:28<00:00, 11.56it/s]\n",
      "Loop 2: 100%|██████████| 1023/1023 [01:31<00:00, 11.17it/s]\n",
      "Loop 2: 100%|██████████| 1023/1023 [00:47<00:00, 21.75it/s]\n",
      "Loop 2: 100%|██████████| 1023/1023 [00:41<00:00, 24.48it/s]\n",
      "Loop 2: 100%|██████████| 1023/1023 [00:42<00:00, 24.28it/s]\n",
      "Loop 2: 100%|██████████| 1023/1023 [00:47<00:00, 21.40it/s]\n",
      "Loop 2: 100%|██████████| 1023/1023 [00:45<00:00, 22.37it/s]\n",
      "Loop 2: 100%|██████████| 1023/1023 [00:47<00:00, 21.74it/s]\n",
      "Loop 2: 100%|██████████| 1023/1023 [00:37<00:00, 27.21it/s]\n",
      "Loop 2: 100%|██████████| 1023/1023 [00:44<00:00, 22.80it/s]\n",
      "Loop 2: 100%|██████████| 1023/1023 [00:41<00:00, 24.45it/s]\n",
      "Loop 2: 100%|██████████| 1023/1023 [00:43<00:00, 23.56it/s]\n",
      "Loop 2: 100%|██████████| 1023/1023 [00:38<00:00, 26.57it/s]\n",
      "Loop 2: 100%|██████████| 1023/1023 [00:39<00:00, 26.07it/s]\n",
      "Loop 2: 100%|██████████| 1023/1023 [00:46<00:00, 22.23it/s]\n",
      "Loop 2: 100%|██████████| 1023/1023 [00:44<00:00, 23.00it/s]\n",
      "Loop 2: 100%|██████████| 1023/1023 [00:47<00:00, 21.37it/s]\n",
      "Loop 2: 100%|██████████| 1023/1023 [00:42<00:00, 23.80it/s]\n",
      "Loop 2: 100%|██████████| 1023/1023 [00:47<00:00, 21.52it/s]\n",
      "Loop 1: 100%|██████████| 32/32 [25:35<00:00, 47.97s/it]"
     ]
    },
    {
     "name": "stdout",
     "output_type": "stream",
     "text": [
      "[{'doppler': -4000, 'shift': 386, 'prn': 13, 'value': (18236.00000001067+13659.999999958904j)}, {'doppler': -5000, 'shift': 0, 'prn': 1, 'value': (13615.00000001016+2893.0000000073633j)}, {'doppler': -3000, 'shift': 0, 'prn': 1, 'value': (13615.000000008495+2892.999999983588j)}, {'doppler': -3500, 'shift': 0, 'prn': 1, 'value': (8433.000000006261+7000.99999998222j)}, {'doppler': -4500, 'shift': 0, 'prn': 1, 'value': (8432.9999999961+7001.00000001241j)}]\n"
     ]
    },
    {
     "name": "stderr",
     "output_type": "stream",
     "text": [
      "\n"
     ]
    }
   ],
   "source": [
    "print(find_best_matches_1(iq_samples, list(range(-5000,5000,500)),32,sample_prn_code= sample_prn_code))"
   ]
  },
  {
   "cell_type": "code",
   "execution_count": 22,
   "metadata": {},
   "outputs": [],
   "source": [
    "from numpy.fft import fft, ifft\n",
    "\n",
    "def parallel_code_phase_search(input_data, doppler_range, doppler_step, sampling_rate):\n",
    "    s = sampling_rate\n",
    "    best_match_info = {'doppler': 0, 'shift': 0, 'prn': 0}\n",
    "    max_correlation_value = 0\n",
    "    t = np.arange(0, 1, 1 / (s * 1023)) * 1e-3\n",
    "    doppler_freq_list = np.arange(*doppler_range, doppler_step)\n",
    "\n",
    "    for prn in tqdm(range(1, 33)):\n",
    "        ca_code = generate_PRN_code(prn)\n",
    "        ca_sampled = np.repeat(ca_code, s)\n",
    "        ca_fft_sampled = fft(ca_sampled)\n",
    "\n",
    "        for dp_freq in doppler_freq_list:\n",
    "            sampling_freq = 2.048e6\n",
    "            doppler_shift = np.exp(-1j * 2 * np.pi * dp_freq * np.arange(len(input_data)) / sampling_freq)\n",
    "\n",
    "            input_shifted_fft = fft(input_data) * doppler_shift\n",
    "            assert len(input_shifted_fft) == len(ca_fft_sampled), \"The lengths of Ca_shifted and input_data should be the same.\"\n",
    "            result_fft = input_shifted_fft * np.conj(ca_fft_sampled)\n",
    "\n",
    "            correlation = abs(ifft(result_fft))\n",
    "\n",
    "            if np.max(correlation) > max_correlation_value:\n",
    "                max_correlation_value = np.max(correlation)\n",
    "                best_match_info['doppler'] = dp_freq\n",
    "                best_match_info['shift'] = np.argmax(correlation)\n",
    "                best_match_info['prn'] = prn\n",
    "        print(best_match_info)\n",
    "    return best_match_info\n"
   ]
  },
  {
   "cell_type": "code",
   "execution_count": 23,
   "metadata": {},
   "outputs": [
    {
     "name": "stderr",
     "output_type": "stream",
     "text": [
      " 78%|███████▊  | 25/32 [00:00<00:00, 122.21it/s]"
     ]
    },
    {
     "name": "stdout",
     "output_type": "stream",
     "text": [
      "{'doppler': 4500, 'shift': 607, 'prn': 1}\n",
      "{'doppler': -5000, 'shift': 1768, 'prn': 2}\n",
      "{'doppler': 4500, 'shift': 1618, 'prn': 3}\n",
      "{'doppler': 4500, 'shift': 1618, 'prn': 3}\n",
      "{'doppler': 4500, 'shift': 1462, 'prn': 5}\n",
      "{'doppler': 4500, 'shift': 1462, 'prn': 5}\n",
      "{'doppler': 4500, 'shift': 1462, 'prn': 5}\n",
      "{'doppler': 4500, 'shift': 1462, 'prn': 5}\n",
      "{'doppler': 4500, 'shift': 1462, 'prn': 5}\n",
      "{'doppler': 4500, 'shift': 1462, 'prn': 5}\n",
      "{'doppler': 4500, 'shift': 1462, 'prn': 5}\n",
      "{'doppler': 4500, 'shift': 1462, 'prn': 5}\n",
      "{'doppler': 4000, 'shift': 1400, 'prn': 13}\n",
      "{'doppler': 4000, 'shift': 1400, 'prn': 13}\n",
      "{'doppler': 4000, 'shift': 1400, 'prn': 13}\n",
      "{'doppler': 4000, 'shift': 1400, 'prn': 13}\n",
      "{'doppler': 4000, 'shift': 1400, 'prn': 13}\n",
      "{'doppler': 4000, 'shift': 1400, 'prn': 13}\n",
      "{'doppler': 4000, 'shift': 1400, 'prn': 13}\n",
      "{'doppler': 4000, 'shift': 1400, 'prn': 13}\n",
      "{'doppler': 4000, 'shift': 1400, 'prn': 13}\n",
      "{'doppler': 4000, 'shift': 1400, 'prn': 13}\n",
      "{'doppler': 4000, 'shift': 1400, 'prn': 13}\n",
      "{'doppler': 4000, 'shift': 1400, 'prn': 13}\n",
      "{'doppler': 4000, 'shift': 1400, 'prn': 13}\n"
     ]
    },
    {
     "name": "stderr",
     "output_type": "stream",
     "text": [
      "100%|██████████| 32/32 [00:00<00:00, 117.81it/s]"
     ]
    },
    {
     "name": "stdout",
     "output_type": "stream",
     "text": [
      "{'doppler': 4000, 'shift': 1400, 'prn': 13}\n",
      "{'doppler': 4000, 'shift': 1400, 'prn': 13}\n",
      "{'doppler': 4000, 'shift': 1400, 'prn': 13}\n",
      "{'doppler': 4000, 'shift': 1400, 'prn': 13}\n",
      "{'doppler': 4000, 'shift': 1400, 'prn': 13}\n",
      "{'doppler': 4000, 'shift': 1400, 'prn': 13}\n",
      "{'doppler': 4000, 'shift': 1400, 'prn': 13}\n"
     ]
    },
    {
     "name": "stderr",
     "output_type": "stream",
     "text": [
      "\n"
     ]
    },
    {
     "data": {
      "text/plain": [
       "{'doppler': 4000, 'shift': 1400, 'prn': 13}"
      ]
     },
     "execution_count": 23,
     "metadata": {},
     "output_type": "execute_result"
    }
   ],
   "source": [
    "parallel_code_phase_search(iq_samples, (-5000,5000), 500, 2)"
   ]
  }
 ],
 "metadata": {
  "kernelspec": {
   "display_name": "Python 3 (ipykernel)",
   "language": "python",
   "name": "python3"
  },
  "language_info": {
   "codemirror_mode": {
    "name": "ipython",
    "version": 3
   },
   "file_extension": ".py",
   "mimetype": "text/x-python",
   "name": "python",
   "nbconvert_exporter": "python",
   "pygments_lexer": "ipython3",
   "version": "3.11.5"
  }
 },
 "nbformat": 4,
 "nbformat_minor": 2
}
